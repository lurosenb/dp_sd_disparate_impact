{
 "cells": [
  {
   "cell_type": "code",
   "execution_count": 1,
   "metadata": {},
   "outputs": [],
   "source": [
    "import numpy as np\n",
    "import pandas as pd\n",
    "from scipy.special import logsumexp"
   ]
  },
  {
   "cell_type": "markdown",
   "metadata": {},
   "source": [
    "## Scenario\n",
    "Let's build a scenario. We have an imbalanced dataset with sock color and scariness.\n",
    "\n",
    "- Individuals with Blue socks have a 1/30=0.033 chance of being violent.\n",
    "- Individuals with Red socks have a 9/70=0.129 chance of being violent.\n",
    "\n",
    "However, individuals with Red socks make up a 0.7 fraction of our total population.\n",
    "\n",
    "We would like to privatize this data to protect individual's privacy. Let's see what happens to our different populations.\n",
    "\n",
    "NOTE: I demonstrate the weirdness of the exponential mechanism at high epsilons, but I validated that our understanding of it aligns with existing (and reliable) implementations online. I show it anyway, but please pay more attention to the example at the bottom : )"
   ]
  },
  {
   "cell_type": "code",
   "execution_count": 2,
   "metadata": {},
   "outputs": [],
   "source": [
    "# Select paradigm\n",
    "group_name = 'sock_color'\n",
    "group_marker = ['Blue', 'Red']\n",
    "attribute_name = 'scary'\n",
    "attribute = ['Violent', 'NonViolent'] # Rare attribute first"
   ]
  },
  {
   "cell_type": "code",
   "execution_count": 3,
   "metadata": {},
   "outputs": [],
   "source": [
    "def build_data(b_sock_count=30, r_sock_count=70, b_val_count=1, r_val_count=9):\n",
    "    socks = [group_marker[0]] * b_sock_count + [group_marker[1]] * r_sock_count\n",
    "    valedictiorians = ([attribute[0]] * b_val_count + [attribute[1]] * (b_sock_count-b_val_count)) + \\\n",
    "                      ([attribute[0]] * r_val_count + [attribute[1]] * (r_sock_count-r_val_count))\n",
    "    df = pd.DataFrame({group_name: socks, attribute_name: valedictiorians})\n",
    "    return df"
   ]
  },
  {
   "cell_type": "code",
   "execution_count": 4,
   "metadata": {},
   "outputs": [
    {
     "data": {
      "text/html": [
       "<div>\n",
       "<style scoped>\n",
       "    .dataframe tbody tr th:only-of-type {\n",
       "        vertical-align: middle;\n",
       "    }\n",
       "\n",
       "    .dataframe tbody tr th {\n",
       "        vertical-align: top;\n",
       "    }\n",
       "\n",
       "    .dataframe thead th {\n",
       "        text-align: right;\n",
       "    }\n",
       "</style>\n",
       "<table border=\"1\" class=\"dataframe\">\n",
       "  <thead>\n",
       "    <tr style=\"text-align: right;\">\n",
       "      <th></th>\n",
       "      <th>sock_color</th>\n",
       "      <th>scary</th>\n",
       "    </tr>\n",
       "  </thead>\n",
       "  <tbody>\n",
       "    <tr>\n",
       "      <th>0</th>\n",
       "      <td>Blue</td>\n",
       "      <td>Violent</td>\n",
       "    </tr>\n",
       "    <tr>\n",
       "      <th>1</th>\n",
       "      <td>Blue</td>\n",
       "      <td>NonViolent</td>\n",
       "    </tr>\n",
       "    <tr>\n",
       "      <th>2</th>\n",
       "      <td>Blue</td>\n",
       "      <td>NonViolent</td>\n",
       "    </tr>\n",
       "    <tr>\n",
       "      <th>3</th>\n",
       "      <td>Blue</td>\n",
       "      <td>NonViolent</td>\n",
       "    </tr>\n",
       "    <tr>\n",
       "      <th>4</th>\n",
       "      <td>Blue</td>\n",
       "      <td>NonViolent</td>\n",
       "    </tr>\n",
       "    <tr>\n",
       "      <th>...</th>\n",
       "      <td>...</td>\n",
       "      <td>...</td>\n",
       "    </tr>\n",
       "    <tr>\n",
       "      <th>95</th>\n",
       "      <td>Red</td>\n",
       "      <td>NonViolent</td>\n",
       "    </tr>\n",
       "    <tr>\n",
       "      <th>96</th>\n",
       "      <td>Red</td>\n",
       "      <td>NonViolent</td>\n",
       "    </tr>\n",
       "    <tr>\n",
       "      <th>97</th>\n",
       "      <td>Red</td>\n",
       "      <td>NonViolent</td>\n",
       "    </tr>\n",
       "    <tr>\n",
       "      <th>98</th>\n",
       "      <td>Red</td>\n",
       "      <td>NonViolent</td>\n",
       "    </tr>\n",
       "    <tr>\n",
       "      <th>99</th>\n",
       "      <td>Red</td>\n",
       "      <td>NonViolent</td>\n",
       "    </tr>\n",
       "  </tbody>\n",
       "</table>\n",
       "<p>100 rows × 2 columns</p>\n",
       "</div>"
      ],
      "text/plain": [
       "   sock_color       scary\n",
       "0        Blue     Violent\n",
       "1        Blue  NonViolent\n",
       "2        Blue  NonViolent\n",
       "3        Blue  NonViolent\n",
       "4        Blue  NonViolent\n",
       "..        ...         ...\n",
       "95        Red  NonViolent\n",
       "96        Red  NonViolent\n",
       "97        Red  NonViolent\n",
       "98        Red  NonViolent\n",
       "99        Red  NonViolent\n",
       "\n",
       "[100 rows x 2 columns]"
      ]
     },
     "execution_count": 4,
     "metadata": {},
     "output_type": "execute_result"
    }
   ],
   "source": [
    "df = build_data()\n",
    "df"
   ]
  },
  {
   "cell_type": "code",
   "execution_count": 5,
   "metadata": {},
   "outputs": [
    {
     "name": "stdout",
     "output_type": "stream",
     "text": [
      "0.1\n",
      "0.9\n"
     ]
    }
   ],
   "source": [
    "options = df['scary'].unique()\n",
    "\n",
    "def score(data, option, print_score=False):\n",
    "    return data.value_counts()[option]/len(data)\n",
    "\n",
    "print(score(df['scary'], 'Violent'))\n",
    "print(score(df['scary'], 'NonViolent'))"
   ]
  },
  {
   "cell_type": "code",
   "execution_count": 6,
   "metadata": {},
   "outputs": [
    {
     "name": "stdout",
     "output_type": "stream",
     "text": [
      "[0.1, 0.9]\n",
      "[0.09975049 0.90024951]\n"
     ]
    },
    {
     "data": {
      "text/plain": [
       "'NonViolent'"
      ]
     },
     "execution_count": 6,
     "metadata": {},
     "output_type": "execute_result"
    }
   ],
   "source": [
    "def exponential(x, R, u, sensitivity, epsilon, print_scores=False, return_probs=False):\n",
    "    # Score for each R\n",
    "    scores = [u(x, r) for r in R]\n",
    "    if print_scores:\n",
    "        print(scores)\n",
    "    \n",
    "    # Prob of each element, based on R\n",
    "    probabilities = [np.exp((epsilon * score) / (2 * sensitivity)) for score in scores]\n",
    "    \n",
    "    # Probabilities need to be normalized\n",
    "    probabilities = probabilities / np.linalg.norm(probabilities, ord=1)\n",
    "\n",
    "    # Element from r using the probabilities\n",
    "    if print_scores:\n",
    "        print(probabilities)\n",
    "    if return_probs:\n",
    "        return probabilities\n",
    "\n",
    "    return np.random.choice(R, 1, p=probabilities)[0]\n",
    "\n",
    "exponential(df['scary'], options, score, 1, 5.5, print_scores=True)"
   ]
  },
  {
   "cell_type": "markdown",
   "metadata": {},
   "source": [
    "## Making sure that my implementation of the exponential mechanism is reasonable\n",
    "Grabbed a different implementation from the web. The odd results at high epsilons persist. Oh well!"
   ]
  },
  {
   "cell_type": "code",
   "execution_count": 7,
   "metadata": {},
   "outputs": [
    {
     "data": {
      "text/plain": [
       "NonViolent    51\n",
       "Violent       49\n",
       "dtype: int64"
      ]
     },
     "execution_count": 7,
     "metadata": {},
     "output_type": "execute_result"
    }
   ],
   "source": [
    "r = [exponential(df['scary'], options, score, 1, 1.0) for i in range(100)]\n",
    "pd.Series(r).value_counts()"
   ]
  },
  {
   "cell_type": "code",
   "execution_count": 8,
   "metadata": {},
   "outputs": [
    {
     "data": {
      "text/plain": [
       "NonViolent    97\n",
       "Violent        3\n",
       "dtype: int64"
      ]
     },
     "execution_count": 8,
     "metadata": {},
     "output_type": "execute_result"
    }
   ],
   "source": [
    "r = [exponential(df['scary'], options, score, 1, 10) for i in range(100)]\n",
    "pd.Series(r).value_counts()"
   ]
  },
  {
   "cell_type": "code",
   "execution_count": 9,
   "metadata": {},
   "outputs": [],
   "source": [
    "def exponential_mechanism(q, eps, sensitivity, prng=np.random, monotonic=False):\n",
    "    coef = 1.0 if monotonic else 0.5\n",
    "    scores = coef*eps/sensitivity*q\n",
    "    probas = np.exp(scores - logsumexp(scores))\n",
    "    return prng.choice(q.size, p=probas)"
   ]
  },
  {
   "cell_type": "code",
   "execution_count": 10,
   "metadata": {},
   "outputs": [],
   "source": [
    "q = [score(df['scary'], r) for r in options]"
   ]
  },
  {
   "cell_type": "code",
   "execution_count": 11,
   "metadata": {},
   "outputs": [
    {
     "data": {
      "text/plain": [
       "NonViolent    62\n",
       "Violent       38\n",
       "dtype: int64"
      ]
     },
     "execution_count": 11,
     "metadata": {},
     "output_type": "execute_result"
    }
   ],
   "source": [
    "r = [options[exponential_mechanism(np.array(q), 1, 1.0)] for i in range(100)]\n",
    "pd.Series(r).value_counts()"
   ]
  },
  {
   "cell_type": "code",
   "execution_count": 12,
   "metadata": {},
   "outputs": [
    {
     "data": {
      "text/plain": [
       "NonViolent    98\n",
       "Violent        2\n",
       "dtype: int64"
      ]
     },
     "execution_count": 12,
     "metadata": {},
     "output_type": "execute_result"
    }
   ],
   "source": [
    "r = [options[exponential_mechanism(np.array(q), 10, 1.0)] for i in range(100)]\n",
    "pd.Series(r).value_counts()"
   ]
  },
  {
   "cell_type": "markdown",
   "metadata": {},
   "source": [
    "## Let's ignore the odd behavior of the exponential mechanism for now.\n",
    "### Let's ignore the odd behavior for now. Let's instead focus in on the probability of reporting valedictorian correctly conditioned on group membership, at a fixed epsilon value of 1.0."
   ]
  },
  {
   "cell_type": "code",
   "execution_count": 13,
   "metadata": {},
   "outputs": [
    {
     "data": {
      "text/plain": [
       "array(['Violent', 'NonViolent'], dtype=object)"
      ]
     },
     "execution_count": 13,
     "metadata": {},
     "output_type": "execute_result"
    }
   ],
   "source": [
    "options\n",
    "# x, R, u, sensitivity, epsilon, print_scores=False"
   ]
  },
  {
   "cell_type": "code",
   "execution_count": 14,
   "metadata": {},
   "outputs": [
    {
     "name": "stdout",
     "output_type": "stream",
     "text": [
      "[0.12857142857142856, 0.8714285714285714]\n",
      "[0.06913842 0.93086158]\n",
      "[('Violent', 0.06913842034334683), ('NonViolent', 0.9308615796566532)]\n"
     ]
    }
   ],
   "source": [
    "alpha = len(df[df['sock_color'] == 'Red'])/len(df)\n",
    "epsilon = 10.0\n",
    "probs = exponential(df[df['sock_color'] == 'Red']['scary'], options, score, 1, alpha*epsilon, print_scores=True, return_probs=True)\n",
    "print(list(zip(options,probs)))"
   ]
  },
  {
   "cell_type": "code",
   "execution_count": 16,
   "metadata": {},
   "outputs": [
    {
     "name": "stdout",
     "output_type": "stream",
     "text": [
      "[0.03333333333333333, 0.9666666666666667]\n",
      "[0.19781611 0.80218389]\n",
      "[('Violent', 0.19781611144141822), ('NonViolent', 0.8021838885585817)]\n"
     ]
    }
   ],
   "source": [
    "inv_alpha = 1 - alpha\n",
    "probs = exponential(df[df['sock_color'] == 'Blue']['scary'], options, score, 1, inv_alpha*epsilon, print_scores=True, return_probs=True)\n",
    "print(list(zip(options,probs)))"
   ]
  },
  {
   "cell_type": "markdown",
   "metadata": {},
   "source": [
    "### Something pernicious is going on here.\n",
    "Recall that Blue socks have a 1/30=0.033 chance of being violent, while Red socks have a 9/70=0.129 chance of being violent.\n",
    "\n",
    "However, at epsilon=1, we find that, due to the group imbalance, we **overvalue** the potential of Blue socks to be violent (significantly!) while we **undervalue** Red socks' potential. "
   ]
  },
  {
   "cell_type": "markdown",
   "metadata": {},
   "source": [
    "*The probability of producing the majority value for the minority class is lower than the probability for the majority class (!)*"
   ]
  },
  {
   "cell_type": "markdown",
   "metadata": {},
   "source": [
    "*The probability of producing the minority value for the minority class is higher than the probability for the majority class (!)*"
   ]
  },
  {
   "cell_type": "code",
   "execution_count": null,
   "metadata": {},
   "outputs": [],
   "source": []
  }
 ],
 "metadata": {
  "interpreter": {
   "hash": "75ae39fb185b2e97d9f6fb1f28c7cc09709216ce708b2cace28bac267a90fa53"
  },
  "kernelspec": {
   "display_name": "Python 3.8.12 ('superquail_env')",
   "language": "python",
   "name": "python3"
  },
  "language_info": {
   "codemirror_mode": {
    "name": "ipython",
    "version": 3
   },
   "file_extension": ".py",
   "mimetype": "text/x-python",
   "name": "python",
   "nbconvert_exporter": "python",
   "pygments_lexer": "ipython3",
   "version": "3.8.12"
  },
  "orig_nbformat": 4
 },
 "nbformat": 4,
 "nbformat_minor": 2
}
